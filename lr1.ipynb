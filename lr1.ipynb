{
 "cells": [
  {
   "cell_type": "markdown",
   "id": "04c42534-9883-4722-9761-e9dd936b5a42",
   "metadata": {},
   "source": [
    "# Лабораторная работа №1, Вариант 11\n",
    "Цель работы: познакомиться с использованием библиотеки pandas при решении\n",
    "практических задач, связанных с анализом данных. \n",
    "Для выполнения задания по анализу данных из файла student-mat.csv выполним следующие шаги:\n",
    "1. Импорт библиотек"
   ]
  },
  {
   "cell_type": "code",
   "execution_count": 14,
   "id": "70e743ff-c414-4148-9236-f8574ca1aa2c",
   "metadata": {},
   "outputs": [],
   "source": [
    "import pandas as pd\n",
    "import numpy as np\n",
    "from datetime import datetime"
   ]
  },
  {
   "cell_type": "markdown",
   "id": "b7a492af-0e88-4b95-a210-7c9d7bbb2105",
   "metadata": {},
   "source": [
    "2. Загрузка данных"
   ]
  },
  {
   "cell_type": "code",
   "execution_count": 2,
   "id": "e5f67953-4d14-4e5d-936f-b2a681c06ead",
   "metadata": {},
   "outputs": [],
   "source": [
    "df = pd.read_csv('movie_dataset.csv')"
   ]
  },
  {
   "cell_type": "markdown",
   "id": "08eea560-162e-43c0-95f9-5bbd40f1d2bc",
   "metadata": {},
   "source": [
    "3. Первые 10 строк"
   ]
  },
  {
   "cell_type": "code",
   "execution_count": 3,
   "id": "e856d3a7-afc0-444a-b551-7ab0a352a120",
   "metadata": {},
   "outputs": [
    {
     "data": {
      "text/html": [
       "<div>\n",
       "<style scoped>\n",
       "    .dataframe tbody tr th:only-of-type {\n",
       "        vertical-align: middle;\n",
       "    }\n",
       "\n",
       "    .dataframe tbody tr th {\n",
       "        vertical-align: top;\n",
       "    }\n",
       "\n",
       "    .dataframe thead th {\n",
       "        text-align: right;\n",
       "    }\n",
       "</style>\n",
       "<table border=\"1\" class=\"dataframe\">\n",
       "  <thead>\n",
       "    <tr style=\"text-align: right;\">\n",
       "      <th></th>\n",
       "      <th>index</th>\n",
       "      <th>budget</th>\n",
       "      <th>genres</th>\n",
       "      <th>homepage</th>\n",
       "      <th>id</th>\n",
       "      <th>keywords</th>\n",
       "      <th>original_language</th>\n",
       "      <th>original_title</th>\n",
       "      <th>overview</th>\n",
       "      <th>popularity</th>\n",
       "      <th>...</th>\n",
       "      <th>runtime</th>\n",
       "      <th>spoken_languages</th>\n",
       "      <th>status</th>\n",
       "      <th>tagline</th>\n",
       "      <th>title</th>\n",
       "      <th>vote_average</th>\n",
       "      <th>vote_count</th>\n",
       "      <th>cast</th>\n",
       "      <th>crew</th>\n",
       "      <th>director</th>\n",
       "    </tr>\n",
       "  </thead>\n",
       "  <tbody>\n",
       "    <tr>\n",
       "      <th>0</th>\n",
       "      <td>0</td>\n",
       "      <td>237000000</td>\n",
       "      <td>Action Adventure Fantasy Science Fiction</td>\n",
       "      <td>http://www.avatarmovie.com/</td>\n",
       "      <td>19995</td>\n",
       "      <td>culture clash future space war space colony so...</td>\n",
       "      <td>en</td>\n",
       "      <td>Avatar</td>\n",
       "      <td>In the 22nd century, a paraplegic Marine is di...</td>\n",
       "      <td>150.437577</td>\n",
       "      <td>...</td>\n",
       "      <td>162.0</td>\n",
       "      <td>[{\"iso_639_1\": \"en\", \"name\": \"English\"}, {\"iso...</td>\n",
       "      <td>Released</td>\n",
       "      <td>Enter the World of Pandora.</td>\n",
       "      <td>Avatar</td>\n",
       "      <td>7.2</td>\n",
       "      <td>11800</td>\n",
       "      <td>Sam Worthington Zoe Saldana Sigourney Weaver S...</td>\n",
       "      <td>[{'name': 'Stephen E. Rivkin', 'gender': 0, 'd...</td>\n",
       "      <td>James Cameron</td>\n",
       "    </tr>\n",
       "    <tr>\n",
       "      <th>1</th>\n",
       "      <td>1</td>\n",
       "      <td>300000000</td>\n",
       "      <td>Adventure Fantasy Action</td>\n",
       "      <td>http://disney.go.com/disneypictures/pirates/</td>\n",
       "      <td>285</td>\n",
       "      <td>ocean drug abuse exotic island east india trad...</td>\n",
       "      <td>en</td>\n",
       "      <td>Pirates of the Caribbean: At World's End</td>\n",
       "      <td>Captain Barbossa, long believed to be dead, ha...</td>\n",
       "      <td>139.082615</td>\n",
       "      <td>...</td>\n",
       "      <td>169.0</td>\n",
       "      <td>[{\"iso_639_1\": \"en\", \"name\": \"English\"}]</td>\n",
       "      <td>Released</td>\n",
       "      <td>At the end of the world, the adventure begins.</td>\n",
       "      <td>Pirates of the Caribbean: At World's End</td>\n",
       "      <td>6.9</td>\n",
       "      <td>4500</td>\n",
       "      <td>Johnny Depp Orlando Bloom Keira Knightley Stel...</td>\n",
       "      <td>[{'name': 'Dariusz Wolski', 'gender': 2, 'depa...</td>\n",
       "      <td>Gore Verbinski</td>\n",
       "    </tr>\n",
       "    <tr>\n",
       "      <th>2</th>\n",
       "      <td>2</td>\n",
       "      <td>245000000</td>\n",
       "      <td>Action Adventure Crime</td>\n",
       "      <td>http://www.sonypictures.com/movies/spectre/</td>\n",
       "      <td>206647</td>\n",
       "      <td>spy based on novel secret agent sequel mi6</td>\n",
       "      <td>en</td>\n",
       "      <td>Spectre</td>\n",
       "      <td>A cryptic message from Bond’s past sends him o...</td>\n",
       "      <td>107.376788</td>\n",
       "      <td>...</td>\n",
       "      <td>148.0</td>\n",
       "      <td>[{\"iso_639_1\": \"fr\", \"name\": \"Fran\\u00e7ais\"},...</td>\n",
       "      <td>Released</td>\n",
       "      <td>A Plan No One Escapes</td>\n",
       "      <td>Spectre</td>\n",
       "      <td>6.3</td>\n",
       "      <td>4466</td>\n",
       "      <td>Daniel Craig Christoph Waltz L\\u00e9a Seydoux ...</td>\n",
       "      <td>[{'name': 'Thomas Newman', 'gender': 2, 'depar...</td>\n",
       "      <td>Sam Mendes</td>\n",
       "    </tr>\n",
       "    <tr>\n",
       "      <th>3</th>\n",
       "      <td>3</td>\n",
       "      <td>250000000</td>\n",
       "      <td>Action Crime Drama Thriller</td>\n",
       "      <td>http://www.thedarkknightrises.com/</td>\n",
       "      <td>49026</td>\n",
       "      <td>dc comics crime fighter terrorist secret ident...</td>\n",
       "      <td>en</td>\n",
       "      <td>The Dark Knight Rises</td>\n",
       "      <td>Following the death of District Attorney Harve...</td>\n",
       "      <td>112.312950</td>\n",
       "      <td>...</td>\n",
       "      <td>165.0</td>\n",
       "      <td>[{\"iso_639_1\": \"en\", \"name\": \"English\"}]</td>\n",
       "      <td>Released</td>\n",
       "      <td>The Legend Ends</td>\n",
       "      <td>The Dark Knight Rises</td>\n",
       "      <td>7.6</td>\n",
       "      <td>9106</td>\n",
       "      <td>Christian Bale Michael Caine Gary Oldman Anne ...</td>\n",
       "      <td>[{'name': 'Hans Zimmer', 'gender': 2, 'departm...</td>\n",
       "      <td>Christopher Nolan</td>\n",
       "    </tr>\n",
       "    <tr>\n",
       "      <th>4</th>\n",
       "      <td>4</td>\n",
       "      <td>260000000</td>\n",
       "      <td>Action Adventure Science Fiction</td>\n",
       "      <td>http://movies.disney.com/john-carter</td>\n",
       "      <td>49529</td>\n",
       "      <td>based on novel mars medallion space travel pri...</td>\n",
       "      <td>en</td>\n",
       "      <td>John Carter</td>\n",
       "      <td>John Carter is a war-weary, former military ca...</td>\n",
       "      <td>43.926995</td>\n",
       "      <td>...</td>\n",
       "      <td>132.0</td>\n",
       "      <td>[{\"iso_639_1\": \"en\", \"name\": \"English\"}]</td>\n",
       "      <td>Released</td>\n",
       "      <td>Lost in our world, found in another.</td>\n",
       "      <td>John Carter</td>\n",
       "      <td>6.1</td>\n",
       "      <td>2124</td>\n",
       "      <td>Taylor Kitsch Lynn Collins Samantha Morton Wil...</td>\n",
       "      <td>[{'name': 'Andrew Stanton', 'gender': 2, 'depa...</td>\n",
       "      <td>Andrew Stanton</td>\n",
       "    </tr>\n",
       "    <tr>\n",
       "      <th>5</th>\n",
       "      <td>5</td>\n",
       "      <td>258000000</td>\n",
       "      <td>Fantasy Action Adventure</td>\n",
       "      <td>http://www.sonypictures.com/movies/spider-man3/</td>\n",
       "      <td>559</td>\n",
       "      <td>dual identity amnesia sandstorm love of one's ...</td>\n",
       "      <td>en</td>\n",
       "      <td>Spider-Man 3</td>\n",
       "      <td>The seemingly invincible Spider-Man goes up ag...</td>\n",
       "      <td>115.699814</td>\n",
       "      <td>...</td>\n",
       "      <td>139.0</td>\n",
       "      <td>[{\"iso_639_1\": \"en\", \"name\": \"English\"}, {\"iso...</td>\n",
       "      <td>Released</td>\n",
       "      <td>The battle within.</td>\n",
       "      <td>Spider-Man 3</td>\n",
       "      <td>5.9</td>\n",
       "      <td>3576</td>\n",
       "      <td>Tobey Maguire Kirsten Dunst James Franco Thoma...</td>\n",
       "      <td>[{'name': 'Francine Maisler', 'gender': 1, 'de...</td>\n",
       "      <td>Sam Raimi</td>\n",
       "    </tr>\n",
       "    <tr>\n",
       "      <th>6</th>\n",
       "      <td>6</td>\n",
       "      <td>260000000</td>\n",
       "      <td>Animation Family</td>\n",
       "      <td>http://disney.go.com/disneypictures/tangled/</td>\n",
       "      <td>38757</td>\n",
       "      <td>hostage magic horse fairy tale musical</td>\n",
       "      <td>en</td>\n",
       "      <td>Tangled</td>\n",
       "      <td>When the kingdom's most wanted-and most charmi...</td>\n",
       "      <td>48.681969</td>\n",
       "      <td>...</td>\n",
       "      <td>100.0</td>\n",
       "      <td>[{\"iso_639_1\": \"en\", \"name\": \"English\"}]</td>\n",
       "      <td>Released</td>\n",
       "      <td>They're taking adventure to new lengths.</td>\n",
       "      <td>Tangled</td>\n",
       "      <td>7.4</td>\n",
       "      <td>3330</td>\n",
       "      <td>Zachary Levi Mandy Moore Donna Murphy Ron Perl...</td>\n",
       "      <td>[{'name': 'John Lasseter', 'gender': 2, 'depar...</td>\n",
       "      <td>Byron Howard</td>\n",
       "    </tr>\n",
       "    <tr>\n",
       "      <th>7</th>\n",
       "      <td>7</td>\n",
       "      <td>280000000</td>\n",
       "      <td>Action Adventure Science Fiction</td>\n",
       "      <td>http://marvel.com/movies/movie/193/avengers_ag...</td>\n",
       "      <td>99861</td>\n",
       "      <td>marvel comic sequel superhero based on comic b...</td>\n",
       "      <td>en</td>\n",
       "      <td>Avengers: Age of Ultron</td>\n",
       "      <td>When Tony Stark tries to jumpstart a dormant p...</td>\n",
       "      <td>134.279229</td>\n",
       "      <td>...</td>\n",
       "      <td>141.0</td>\n",
       "      <td>[{\"iso_639_1\": \"en\", \"name\": \"English\"}]</td>\n",
       "      <td>Released</td>\n",
       "      <td>A New Age Has Come.</td>\n",
       "      <td>Avengers: Age of Ultron</td>\n",
       "      <td>7.3</td>\n",
       "      <td>6767</td>\n",
       "      <td>Robert Downey Jr. Chris Hemsworth Mark Ruffalo...</td>\n",
       "      <td>[{'name': 'Danny Elfman', 'gender': 2, 'depart...</td>\n",
       "      <td>Joss Whedon</td>\n",
       "    </tr>\n",
       "    <tr>\n",
       "      <th>8</th>\n",
       "      <td>8</td>\n",
       "      <td>250000000</td>\n",
       "      <td>Adventure Fantasy Family</td>\n",
       "      <td>http://harrypotter.warnerbros.com/harrypottera...</td>\n",
       "      <td>767</td>\n",
       "      <td>witch magic broom school of witchcraft wizardry</td>\n",
       "      <td>en</td>\n",
       "      <td>Harry Potter and the Half-Blood Prince</td>\n",
       "      <td>As Harry begins his sixth year at Hogwarts, he...</td>\n",
       "      <td>98.885637</td>\n",
       "      <td>...</td>\n",
       "      <td>153.0</td>\n",
       "      <td>[{\"iso_639_1\": \"en\", \"name\": \"English\"}]</td>\n",
       "      <td>Released</td>\n",
       "      <td>Dark Secrets Revealed</td>\n",
       "      <td>Harry Potter and the Half-Blood Prince</td>\n",
       "      <td>7.4</td>\n",
       "      <td>5293</td>\n",
       "      <td>Daniel Radcliffe Rupert Grint Emma Watson Tom ...</td>\n",
       "      <td>[{'name': 'Bruno Delbonnel', 'gender': 0, 'dep...</td>\n",
       "      <td>David Yates</td>\n",
       "    </tr>\n",
       "    <tr>\n",
       "      <th>9</th>\n",
       "      <td>9</td>\n",
       "      <td>250000000</td>\n",
       "      <td>Action Adventure Fantasy</td>\n",
       "      <td>http://www.batmanvsupermandawnofjustice.com/</td>\n",
       "      <td>209112</td>\n",
       "      <td>dc comics vigilante superhero based on comic b...</td>\n",
       "      <td>en</td>\n",
       "      <td>Batman v Superman: Dawn of Justice</td>\n",
       "      <td>Fearing the actions of a god-like Super Hero l...</td>\n",
       "      <td>155.790452</td>\n",
       "      <td>...</td>\n",
       "      <td>151.0</td>\n",
       "      <td>[{\"iso_639_1\": \"en\", \"name\": \"English\"}]</td>\n",
       "      <td>Released</td>\n",
       "      <td>Justice or revenge</td>\n",
       "      <td>Batman v Superman: Dawn of Justice</td>\n",
       "      <td>5.7</td>\n",
       "      <td>7004</td>\n",
       "      <td>Ben Affleck Henry Cavill Gal Gadot Amy Adams J...</td>\n",
       "      <td>[{'name': 'Hans Zimmer', 'gender': 2, 'departm...</td>\n",
       "      <td>Zack Snyder</td>\n",
       "    </tr>\n",
       "  </tbody>\n",
       "</table>\n",
       "<p>10 rows × 24 columns</p>\n",
       "</div>"
      ],
      "text/plain": [
       "   index     budget                                    genres  \\\n",
       "0      0  237000000  Action Adventure Fantasy Science Fiction   \n",
       "1      1  300000000                  Adventure Fantasy Action   \n",
       "2      2  245000000                    Action Adventure Crime   \n",
       "3      3  250000000               Action Crime Drama Thriller   \n",
       "4      4  260000000          Action Adventure Science Fiction   \n",
       "5      5  258000000                  Fantasy Action Adventure   \n",
       "6      6  260000000                          Animation Family   \n",
       "7      7  280000000          Action Adventure Science Fiction   \n",
       "8      8  250000000                  Adventure Fantasy Family   \n",
       "9      9  250000000                  Action Adventure Fantasy   \n",
       "\n",
       "                                            homepage      id  \\\n",
       "0                        http://www.avatarmovie.com/   19995   \n",
       "1       http://disney.go.com/disneypictures/pirates/     285   \n",
       "2        http://www.sonypictures.com/movies/spectre/  206647   \n",
       "3                 http://www.thedarkknightrises.com/   49026   \n",
       "4               http://movies.disney.com/john-carter   49529   \n",
       "5    http://www.sonypictures.com/movies/spider-man3/     559   \n",
       "6       http://disney.go.com/disneypictures/tangled/   38757   \n",
       "7  http://marvel.com/movies/movie/193/avengers_ag...   99861   \n",
       "8  http://harrypotter.warnerbros.com/harrypottera...     767   \n",
       "9       http://www.batmanvsupermandawnofjustice.com/  209112   \n",
       "\n",
       "                                            keywords original_language  \\\n",
       "0  culture clash future space war space colony so...                en   \n",
       "1  ocean drug abuse exotic island east india trad...                en   \n",
       "2         spy based on novel secret agent sequel mi6                en   \n",
       "3  dc comics crime fighter terrorist secret ident...                en   \n",
       "4  based on novel mars medallion space travel pri...                en   \n",
       "5  dual identity amnesia sandstorm love of one's ...                en   \n",
       "6             hostage magic horse fairy tale musical                en   \n",
       "7  marvel comic sequel superhero based on comic b...                en   \n",
       "8    witch magic broom school of witchcraft wizardry                en   \n",
       "9  dc comics vigilante superhero based on comic b...                en   \n",
       "\n",
       "                             original_title  \\\n",
       "0                                    Avatar   \n",
       "1  Pirates of the Caribbean: At World's End   \n",
       "2                                   Spectre   \n",
       "3                     The Dark Knight Rises   \n",
       "4                               John Carter   \n",
       "5                              Spider-Man 3   \n",
       "6                                   Tangled   \n",
       "7                   Avengers: Age of Ultron   \n",
       "8    Harry Potter and the Half-Blood Prince   \n",
       "9        Batman v Superman: Dawn of Justice   \n",
       "\n",
       "                                            overview  popularity  ... runtime  \\\n",
       "0  In the 22nd century, a paraplegic Marine is di...  150.437577  ...   162.0   \n",
       "1  Captain Barbossa, long believed to be dead, ha...  139.082615  ...   169.0   \n",
       "2  A cryptic message from Bond’s past sends him o...  107.376788  ...   148.0   \n",
       "3  Following the death of District Attorney Harve...  112.312950  ...   165.0   \n",
       "4  John Carter is a war-weary, former military ca...   43.926995  ...   132.0   \n",
       "5  The seemingly invincible Spider-Man goes up ag...  115.699814  ...   139.0   \n",
       "6  When the kingdom's most wanted-and most charmi...   48.681969  ...   100.0   \n",
       "7  When Tony Stark tries to jumpstart a dormant p...  134.279229  ...   141.0   \n",
       "8  As Harry begins his sixth year at Hogwarts, he...   98.885637  ...   153.0   \n",
       "9  Fearing the actions of a god-like Super Hero l...  155.790452  ...   151.0   \n",
       "\n",
       "                                    spoken_languages    status  \\\n",
       "0  [{\"iso_639_1\": \"en\", \"name\": \"English\"}, {\"iso...  Released   \n",
       "1           [{\"iso_639_1\": \"en\", \"name\": \"English\"}]  Released   \n",
       "2  [{\"iso_639_1\": \"fr\", \"name\": \"Fran\\u00e7ais\"},...  Released   \n",
       "3           [{\"iso_639_1\": \"en\", \"name\": \"English\"}]  Released   \n",
       "4           [{\"iso_639_1\": \"en\", \"name\": \"English\"}]  Released   \n",
       "5  [{\"iso_639_1\": \"en\", \"name\": \"English\"}, {\"iso...  Released   \n",
       "6           [{\"iso_639_1\": \"en\", \"name\": \"English\"}]  Released   \n",
       "7           [{\"iso_639_1\": \"en\", \"name\": \"English\"}]  Released   \n",
       "8           [{\"iso_639_1\": \"en\", \"name\": \"English\"}]  Released   \n",
       "9           [{\"iso_639_1\": \"en\", \"name\": \"English\"}]  Released   \n",
       "\n",
       "                                          tagline  \\\n",
       "0                     Enter the World of Pandora.   \n",
       "1  At the end of the world, the adventure begins.   \n",
       "2                           A Plan No One Escapes   \n",
       "3                                 The Legend Ends   \n",
       "4            Lost in our world, found in another.   \n",
       "5                              The battle within.   \n",
       "6        They're taking adventure to new lengths.   \n",
       "7                             A New Age Has Come.   \n",
       "8                           Dark Secrets Revealed   \n",
       "9                              Justice or revenge   \n",
       "\n",
       "                                      title vote_average vote_count  \\\n",
       "0                                    Avatar          7.2      11800   \n",
       "1  Pirates of the Caribbean: At World's End          6.9       4500   \n",
       "2                                   Spectre          6.3       4466   \n",
       "3                     The Dark Knight Rises          7.6       9106   \n",
       "4                               John Carter          6.1       2124   \n",
       "5                              Spider-Man 3          5.9       3576   \n",
       "6                                   Tangled          7.4       3330   \n",
       "7                   Avengers: Age of Ultron          7.3       6767   \n",
       "8    Harry Potter and the Half-Blood Prince          7.4       5293   \n",
       "9        Batman v Superman: Dawn of Justice          5.7       7004   \n",
       "\n",
       "                                                cast  \\\n",
       "0  Sam Worthington Zoe Saldana Sigourney Weaver S...   \n",
       "1  Johnny Depp Orlando Bloom Keira Knightley Stel...   \n",
       "2  Daniel Craig Christoph Waltz L\\u00e9a Seydoux ...   \n",
       "3  Christian Bale Michael Caine Gary Oldman Anne ...   \n",
       "4  Taylor Kitsch Lynn Collins Samantha Morton Wil...   \n",
       "5  Tobey Maguire Kirsten Dunst James Franco Thoma...   \n",
       "6  Zachary Levi Mandy Moore Donna Murphy Ron Perl...   \n",
       "7  Robert Downey Jr. Chris Hemsworth Mark Ruffalo...   \n",
       "8  Daniel Radcliffe Rupert Grint Emma Watson Tom ...   \n",
       "9  Ben Affleck Henry Cavill Gal Gadot Amy Adams J...   \n",
       "\n",
       "                                                crew           director  \n",
       "0  [{'name': 'Stephen E. Rivkin', 'gender': 0, 'd...      James Cameron  \n",
       "1  [{'name': 'Dariusz Wolski', 'gender': 2, 'depa...     Gore Verbinski  \n",
       "2  [{'name': 'Thomas Newman', 'gender': 2, 'depar...         Sam Mendes  \n",
       "3  [{'name': 'Hans Zimmer', 'gender': 2, 'departm...  Christopher Nolan  \n",
       "4  [{'name': 'Andrew Stanton', 'gender': 2, 'depa...     Andrew Stanton  \n",
       "5  [{'name': 'Francine Maisler', 'gender': 1, 'de...          Sam Raimi  \n",
       "6  [{'name': 'John Lasseter', 'gender': 2, 'depar...       Byron Howard  \n",
       "7  [{'name': 'Danny Elfman', 'gender': 2, 'depart...        Joss Whedon  \n",
       "8  [{'name': 'Bruno Delbonnel', 'gender': 0, 'dep...        David Yates  \n",
       "9  [{'name': 'Hans Zimmer', 'gender': 2, 'departm...        Zack Snyder  \n",
       "\n",
       "[10 rows x 24 columns]"
      ]
     },
     "execution_count": 3,
     "metadata": {},
     "output_type": "execute_result"
    }
   ],
   "source": [
    "df.head(10)"
   ]
  },
  {
   "cell_type": "markdown",
   "id": "a00ff2a4-841d-4506-a58e-d304fd844f93",
   "metadata": {},
   "source": [
    "4. Размер данных"
   ]
  },
  {
   "cell_type": "code",
   "execution_count": 4,
   "id": "97081b54-948c-4a19-bc4b-ad6143f8feee",
   "metadata": {},
   "outputs": [
    {
     "name": "stdout",
     "output_type": "stream",
     "text": [
      "Строк: 4803, столбцов: 24\n"
     ]
    }
   ],
   "source": [
    "print(f\"Строк: {df.shape[0]}, столбцов: {df.shape[1]}\")"
   ]
  },
  {
   "cell_type": "markdown",
   "id": "aad42a47-ccef-4fec-b8a4-a8083bb55acb",
   "metadata": {},
   "source": [
    "5. Сводная информация"
   ]
  },
  {
   "cell_type": "code",
   "execution_count": 7,
   "id": "9ad1bee9-bf9c-45f5-802e-afc12c77fd8c",
   "metadata": {},
   "outputs": [
    {
     "name": "stdout",
     "output_type": "stream",
     "text": [
      "<class 'pandas.core.frame.DataFrame'>\n",
      "RangeIndex: 4803 entries, 0 to 4802\n",
      "Data columns (total 24 columns):\n",
      " #   Column                Non-Null Count  Dtype  \n",
      "---  ------                --------------  -----  \n",
      " 0   index                 4803 non-null   int64  \n",
      " 1   budget                4803 non-null   int64  \n",
      " 2   genres                4775 non-null   object \n",
      " 3   homepage              1712 non-null   object \n",
      " 4   id                    4803 non-null   int64  \n",
      " 5   keywords              4391 non-null   object \n",
      " 6   original_language     4803 non-null   object \n",
      " 7   original_title        4803 non-null   object \n",
      " 8   overview              4800 non-null   object \n",
      " 9   popularity            4803 non-null   float64\n",
      " 10  production_companies  4803 non-null   object \n",
      " 11  production_countries  4803 non-null   object \n",
      " 12  release_date          4802 non-null   object \n",
      " 13  revenue               4803 non-null   int64  \n",
      " 14  runtime               4801 non-null   float64\n",
      " 15  spoken_languages      4803 non-null   object \n",
      " 16  status                4803 non-null   object \n",
      " 17  tagline               3959 non-null   object \n",
      " 18  title                 4803 non-null   object \n",
      " 19  vote_average          4803 non-null   float64\n",
      " 20  vote_count            4803 non-null   int64  \n",
      " 21  cast                  4760 non-null   object \n",
      " 22  crew                  4803 non-null   object \n",
      " 23  director              4773 non-null   object \n",
      "dtypes: float64(3), int64(5), object(16)\n",
      "memory usage: 900.7+ KB\n"
     ]
    }
   ],
   "source": [
    "df.info()"
   ]
  },
  {
   "cell_type": "markdown",
   "id": "454a44fc-df11-488a-ab9f-43876ae42b27",
   "metadata": {},
   "source": [
    "6. Индекс данных"
   ]
  },
  {
   "cell_type": "code",
   "execution_count": 8,
   "id": "82dc9cfe-00e9-4e9f-a1b2-5979456ada93",
   "metadata": {},
   "outputs": [
    {
     "name": "stdout",
     "output_type": "stream",
     "text": [
      "Индекс: RangeIndex(start=0, stop=4803, step=1)\n"
     ]
    }
   ],
   "source": [
    "print(f\"Индекс: {df.index}\")"
   ]
  },
  {
   "cell_type": "markdown",
   "id": "15b48710-d06f-477d-8659-53b7e1e25c68",
   "metadata": {},
   "source": [
    "7.  Сколько продюсеров упоминается в наборе данных?"
   ]
  },
  {
   "cell_type": "code",
   "execution_count": 9,
   "id": "aa386c3b-006e-43f3-9c5d-b323ebb7d49d",
   "metadata": {},
   "outputs": [
    {
     "name": "stdout",
     "output_type": "stream",
     "text": [
      "Количество уникальных продюсеров: 2350\n"
     ]
    }
   ],
   "source": [
    "directors = df['director'].dropna()\n",
    "unique_directors = set()\n",
    "for director_list in directors:\n",
    "    if isinstance(director_list, str):\n",
    "        # Разделяем по запятым, если несколько продюсеров\n",
    "        for director in director_list.split(','):\n",
    "            unique_directors.add(director.strip())\n",
    "\n",
    "print(f\"Количество уникальных продюсеров: {len(unique_directors)}\")"
   ]
  },
  {
   "cell_type": "markdown",
   "id": "91033a1e-c3c5-43ad-a1d4-64cef67bf286",
   "metadata": {},
   "source": [
    "8. Создайте несколько датафреймов, каждый из которых содержит сведения о фильмах одного конкретного продюсера"
   ]
  },
  {
   "cell_type": "code",
   "execution_count": 11,
   "id": "a2adaf09-d0f1-4d1d-afa8-28b96b320561",
   "metadata": {},
   "outputs": [
    {
     "name": "stdout",
     "output_type": "stream",
     "text": [
      "Продюсер Steven Spielberg: 27 фильмов\n",
      "Продюсер Woody Allen: 21 фильмов\n",
      "Продюсер Clint Eastwood: 20 фильмов\n",
      "Продюсер Martin Scorsese: 20 фильмов\n",
      "Продюсер Spike Lee: 16 фильмов\n",
      "\n",
      "Пример - фильмы продюсера Steven Spielberg:\n"
     ]
    },
    {
     "data": {
      "text/html": [
       "<div>\n",
       "<style scoped>\n",
       "    .dataframe tbody tr th:only-of-type {\n",
       "        vertical-align: middle;\n",
       "    }\n",
       "\n",
       "    .dataframe tbody tr th {\n",
       "        vertical-align: top;\n",
       "    }\n",
       "\n",
       "    .dataframe thead th {\n",
       "        text-align: right;\n",
       "    }\n",
       "</style>\n",
       "<table border=\"1\" class=\"dataframe\">\n",
       "  <thead>\n",
       "    <tr style=\"text-align: right;\">\n",
       "      <th></th>\n",
       "      <th>title</th>\n",
       "      <th>release_date</th>\n",
       "      <th>revenue</th>\n",
       "    </tr>\n",
       "  </thead>\n",
       "  <tbody>\n",
       "    <tr>\n",
       "      <th>53</th>\n",
       "      <td>Indiana Jones and the Kingdom of the Crystal S...</td>\n",
       "      <td>2008-05-21</td>\n",
       "      <td>786636033</td>\n",
       "    </tr>\n",
       "    <tr>\n",
       "      <th>175</th>\n",
       "      <td>The BFG</td>\n",
       "      <td>2016-06-01</td>\n",
       "      <td>183345589</td>\n",
       "    </tr>\n",
       "    <tr>\n",
       "      <th>185</th>\n",
       "      <td>War of the Worlds</td>\n",
       "      <td>2005-06-28</td>\n",
       "      <td>591739379</td>\n",
       "    </tr>\n",
       "    <tr>\n",
       "      <th>190</th>\n",
       "      <td>The Adventures of Tintin</td>\n",
       "      <td>2011-10-25</td>\n",
       "      <td>371940071</td>\n",
       "    </tr>\n",
       "    <tr>\n",
       "      <th>275</th>\n",
       "      <td>Minority Report</td>\n",
       "      <td>2002-06-20</td>\n",
       "      <td>358372926</td>\n",
       "    </tr>\n",
       "  </tbody>\n",
       "</table>\n",
       "</div>"
      ],
      "text/plain": [
       "                                                 title release_date    revenue\n",
       "53   Indiana Jones and the Kingdom of the Crystal S...   2008-05-21  786636033\n",
       "175                                            The BFG   2016-06-01  183345589\n",
       "185                                  War of the Worlds   2005-06-28  591739379\n",
       "190                           The Adventures of Tintin   2011-10-25  371940071\n",
       "275                                    Minority Report   2002-06-20  358372926"
      ]
     },
     "metadata": {},
     "output_type": "display_data"
    }
   ],
   "source": [
    "top_directors = df['director'].value_counts().head().index\n",
    "\n",
    "director_dfs = {}\n",
    "for director in top_directors:\n",
    "    if pd.notna(director):\n",
    "        # Для простоты берем первого продюсера из списка, если их несколько\n",
    "        mask = df['director'].str.contains(director.split(',')[0], na=False)\n",
    "        director_dfs[director] = df[mask]\n",
    "        print(f\"Продюсер {director}: {len(director_dfs[director])} фильмов\")\n",
    "\n",
    "# Пример доступа к датафрейму конкретного продюсера\n",
    "if top_directors[0] in director_dfs:\n",
    "    print(f\"\\nПример - фильмы продюсера {top_directors[0]}:\")\n",
    "    display(director_dfs[top_directors[0]][['title', 'release_date', 'revenue']].head())"
   ]
  },
  {
   "cell_type": "markdown",
   "id": "46a9109e-4c5a-4d6d-8722-ec5930c680d2",
   "metadata": {},
   "source": [
    "9. Каков средняя продолжительность фильма?"
   ]
  },
  {
   "cell_type": "code",
   "execution_count": 13,
   "id": "b0263d55-bda1-44b5-a7a9-1c8f1b77e006",
   "metadata": {},
   "outputs": [
    {
     "name": "stdout",
     "output_type": "stream",
     "text": [
      "Средняя продолжительность фильма: 106.88 минут\n"
     ]
    }
   ],
   "source": [
    "average_runtime = df['runtime'].mean()\n",
    "print(f\"Средняя продолжительность фильма: {average_runtime:.2f} минут\")"
   ]
  },
  {
   "cell_type": "markdown",
   "id": "9adab417-7a94-4202-a93c-df87c218c7e8",
   "metadata": {},
   "source": [
    "10. Какая студия (студии) сняли фильм, принесший максимальный доход?"
   ]
  },
  {
   "cell_type": "code",
   "execution_count": 15,
   "id": "3d5a5869-5305-4b80-80b8-cb602a667714",
   "metadata": {},
   "outputs": [
    {
     "name": "stdout",
     "output_type": "stream",
     "text": [
      "Фильм с максимальным доходом: Avatar\n",
      "Доход: $2,787,965,087.00\n",
      "Производственные компании: [{\"name\": \"Ingenious Film Partners\", \"id\": 289}, {\"name\": \"Twentieth Century Fox Film Corporation\", \"id\": 306}, {\"name\": \"Dune Entertainment\", \"id\": 444}, {\"name\": \"Lightstorm Entertainment\", \"id\": 574}]\n"
     ]
    }
   ],
   "source": [
    "max_revenue_movie = df.loc[df['revenue'].idxmax()]\n",
    "print(f\"Фильм с максимальным доходом: {max_revenue_movie['title']}\")\n",
    "print(f\"Доход: ${max_revenue_movie['revenue']:,.2f}\")\n",
    "print(f\"Производственные компании: {max_revenue_movie['production_companies']}\")"
   ]
  },
  {
   "cell_type": "markdown",
   "id": "bcdb4c86-6332-415d-97c1-cd3d13bffea6",
   "metadata": {},
   "source": [
    "11. Выведите TOP-5 фильмов, имеющих максимальный успех"
   ]
  },
  {
   "cell_type": "code",
   "execution_count": 16,
   "id": "86aecfd0-0eae-43dc-9c08-e1659ff8a834",
   "metadata": {},
   "outputs": [
    {
     "name": "stdout",
     "output_type": "stream",
     "text": [
      "TOP-5 фильмов по успеху (revenue * popularity):\n"
     ]
    },
    {
     "data": {
      "text/html": [
       "<div>\n",
       "<style scoped>\n",
       "    .dataframe tbody tr th:only-of-type {\n",
       "        vertical-align: middle;\n",
       "    }\n",
       "\n",
       "    .dataframe tbody tr th {\n",
       "        vertical-align: top;\n",
       "    }\n",
       "\n",
       "    .dataframe thead th {\n",
       "        text-align: right;\n",
       "    }\n",
       "</style>\n",
       "<table border=\"1\" class=\"dataframe\">\n",
       "  <thead>\n",
       "    <tr style=\"text-align: right;\">\n",
       "      <th></th>\n",
       "      <th>title</th>\n",
       "      <th>revenue</th>\n",
       "      <th>popularity</th>\n",
       "      <th>success_score</th>\n",
       "    </tr>\n",
       "  </thead>\n",
       "  <tbody>\n",
       "    <tr>\n",
       "      <th>546</th>\n",
       "      <td>Minions</td>\n",
       "      <td>1156730962</td>\n",
       "      <td>875.581305</td>\n",
       "      <td>1.012812e+06</td>\n",
       "    </tr>\n",
       "    <tr>\n",
       "      <th>28</th>\n",
       "      <td>Jurassic World</td>\n",
       "      <td>1513528810</td>\n",
       "      <td>418.708552</td>\n",
       "      <td>6.337275e+05</td>\n",
       "    </tr>\n",
       "    <tr>\n",
       "      <th>95</th>\n",
       "      <td>Interstellar</td>\n",
       "      <td>675120017</td>\n",
       "      <td>724.247784</td>\n",
       "      <td>4.889542e+05</td>\n",
       "    </tr>\n",
       "    <tr>\n",
       "      <th>0</th>\n",
       "      <td>Avatar</td>\n",
       "      <td>2787965087</td>\n",
       "      <td>150.437577</td>\n",
       "      <td>4.194147e+05</td>\n",
       "    </tr>\n",
       "    <tr>\n",
       "      <th>788</th>\n",
       "      <td>Deadpool</td>\n",
       "      <td>783112979</td>\n",
       "      <td>514.569956</td>\n",
       "      <td>4.029664e+05</td>\n",
       "    </tr>\n",
       "  </tbody>\n",
       "</table>\n",
       "</div>"
      ],
      "text/plain": [
       "              title     revenue  popularity  success_score\n",
       "546         Minions  1156730962  875.581305   1.012812e+06\n",
       "28   Jurassic World  1513528810  418.708552   6.337275e+05\n",
       "95     Interstellar   675120017  724.247784   4.889542e+05\n",
       "0            Avatar  2787965087  150.437577   4.194147e+05\n",
       "788        Deadpool   783112979  514.569956   4.029664e+05"
      ]
     },
     "metadata": {},
     "output_type": "display_data"
    }
   ],
   "source": [
    "# Успех можно определить по разным критериям. Используем комбинацию revenue и popularity\n",
    "df['success_score'] = df['revenue'] * df['popularity'] / 1000000  # Нормализуем\n",
    "\n",
    "top5_success = df.nlargest(5, 'success_score')[['title', 'revenue', 'popularity', 'success_score']]\n",
    "print(\"TOP-5 фильмов по успеху (revenue * popularity):\")\n",
    "display(top5_success)"
   ]
  },
  {
   "cell_type": "markdown",
   "id": "ba304d0d-9ff6-4ae5-90ef-36a1aad63f3b",
   "metadata": {},
   "source": [
    "12. Определите, сколько фильмов имеют одинаковый набор жанров"
   ]
  },
  {
   "cell_type": "code",
   "execution_count": 22,
   "id": "86775c92-6d45-4e91-a4a6-c2598d125cca",
   "metadata": {},
   "outputs": [
    {
     "name": "stdout",
     "output_type": "stream",
     "text": [
      "Распределение фильмов по наборам жанров:\n",
      "Всего уникальных комбинаций жанров: 1168\n",
      "\n",
      "Топ-10 самых распространенных комбинаций жанров:\n"
     ]
    },
    {
     "data": {
      "text/plain": [
       "genres\n",
       "Drama                   370\n",
       "Comedy                  282\n",
       "Drama Romance           164\n",
       "Comedy Romance          144\n",
       "Comedy Drama            142\n",
       "Comedy Drama Romance    109\n",
       "Horror Thriller          88\n",
       "Documentary              68\n",
       "Horror                   64\n",
       "Drama Thriller           62\n",
       "Name: count, dtype: int64"
      ]
     },
     "metadata": {},
     "output_type": "display_data"
    }
   ],
   "source": [
    "genre_counts = df['genres'].value_counts()\n",
    "print(\"Распределение фильмов по наборам жанров:\")\n",
    "print(f\"Всего уникальных комбинаций жанров: {len(genre_counts)}\")\n",
    "print(f\"\\nТоп-10 самых распространенных комбинаций жанров:\")\n",
    "display(genre_counts.head(10))"
   ]
  },
  {
   "cell_type": "markdown",
   "id": "211f2878-005a-4f64-ad99-91abc2c34b24",
   "metadata": {},
   "source": [
    "13. Какой слоган у самого популярного и самого непопулярного фильма"
   ]
  },
  {
   "cell_type": "code",
   "execution_count": 23,
   "id": "df464c96-f93e-4258-a151-65f6a80680ee",
   "metadata": {},
   "outputs": [
    {
     "name": "stdout",
     "output_type": "stream",
     "text": [
      "Самый популярный фильм:\n",
      "Название: Minions\n",
      "Популярность: 875.58\n",
      "Слоган: Before Gru, they had a history of bad bosses\n",
      "\n",
      "Самый непопулярный фильм:\n",
      "Название: America Is Still the Place\n",
      "Популярность: 0.00\n",
      "Слоган: Отсутствует\n"
     ]
    }
   ],
   "source": [
    "most_popular = df.loc[df['popularity'].idxmax()]\n",
    "least_popular = df.loc[df['popularity'].idxmin()]\n",
    "\n",
    "print(\"Самый популярный фильм:\")\n",
    "print(f\"Название: {most_popular['title']}\")\n",
    "print(f\"Популярность: {most_popular['popularity']:.2f}\")\n",
    "print(f\"Слоган: {most_popular['tagline'] if pd.notna(most_popular['tagline']) else 'Отсутствует'}\")\n",
    "\n",
    "print(\"\\nСамый непопулярный фильм:\")\n",
    "print(f\"Название: {least_popular['title']}\")\n",
    "print(f\"Популярность: {least_popular['popularity']:.2f}\")\n",
    "print(f\"Слоган: {least_popular['tagline'] if pd.notna(least_popular['tagline']) else 'Отсутствует'}\")"
   ]
  },
  {
   "cell_type": "markdown",
   "id": "73876191-ba72-4c80-9842-efb0ad4b3acb",
   "metadata": {},
   "source": [
    "14. Определите 5 самых новых и 5 самых старых фильмов в рейтинге"
   ]
  },
  {
   "cell_type": "code",
   "execution_count": 24,
   "id": "c2286139-a52d-40db-b37c-d3df3a287510",
   "metadata": {},
   "outputs": [
    {
     "name": "stdout",
     "output_type": "stream",
     "text": [
      "5 самых новых фильмов:\n"
     ]
    },
    {
     "data": {
      "text/html": [
       "<div>\n",
       "<style scoped>\n",
       "    .dataframe tbody tr th:only-of-type {\n",
       "        vertical-align: middle;\n",
       "    }\n",
       "\n",
       "    .dataframe tbody tr th {\n",
       "        vertical-align: top;\n",
       "    }\n",
       "\n",
       "    .dataframe thead th {\n",
       "        text-align: right;\n",
       "    }\n",
       "</style>\n",
       "<table border=\"1\" class=\"dataframe\">\n",
       "  <thead>\n",
       "    <tr style=\"text-align: right;\">\n",
       "      <th></th>\n",
       "      <th>title</th>\n",
       "      <th>release_date</th>\n",
       "      <th>vote_average</th>\n",
       "    </tr>\n",
       "  </thead>\n",
       "  <tbody>\n",
       "    <tr>\n",
       "      <th>4255</th>\n",
       "      <td>Growing Up Smith</td>\n",
       "      <td>2017-02-03</td>\n",
       "      <td>7.4</td>\n",
       "    </tr>\n",
       "    <tr>\n",
       "      <th>3408</th>\n",
       "      <td>Two Lovers and a Bear</td>\n",
       "      <td>2016-10-02</td>\n",
       "      <td>6.8</td>\n",
       "    </tr>\n",
       "    <tr>\n",
       "      <th>3302</th>\n",
       "      <td>Mr. Church</td>\n",
       "      <td>2016-09-16</td>\n",
       "      <td>7.0</td>\n",
       "    </tr>\n",
       "    <tr>\n",
       "      <th>3249</th>\n",
       "      <td>Kicks</td>\n",
       "      <td>2016-09-09</td>\n",
       "      <td>7.5</td>\n",
       "    </tr>\n",
       "    <tr>\n",
       "      <th>4720</th>\n",
       "      <td>The Birth of a Nation</td>\n",
       "      <td>2016-09-09</td>\n",
       "      <td>6.5</td>\n",
       "    </tr>\n",
       "  </tbody>\n",
       "</table>\n",
       "</div>"
      ],
      "text/plain": [
       "                      title release_date  vote_average\n",
       "4255       Growing Up Smith   2017-02-03           7.4\n",
       "3408  Two Lovers and a Bear   2016-10-02           6.8\n",
       "3302             Mr. Church   2016-09-16           7.0\n",
       "3249                  Kicks   2016-09-09           7.5\n",
       "4720  The Birth of a Nation   2016-09-09           6.5"
      ]
     },
     "metadata": {},
     "output_type": "display_data"
    },
    {
     "name": "stdout",
     "output_type": "stream",
     "text": [
      "\n",
      "5 самых старых фильмов:\n"
     ]
    },
    {
     "data": {
      "text/html": [
       "<div>\n",
       "<style scoped>\n",
       "    .dataframe tbody tr th:only-of-type {\n",
       "        vertical-align: middle;\n",
       "    }\n",
       "\n",
       "    .dataframe tbody tr th {\n",
       "        vertical-align: top;\n",
       "    }\n",
       "\n",
       "    .dataframe thead th {\n",
       "        text-align: right;\n",
       "    }\n",
       "</style>\n",
       "<table border=\"1\" class=\"dataframe\">\n",
       "  <thead>\n",
       "    <tr style=\"text-align: right;\">\n",
       "      <th></th>\n",
       "      <th>title</th>\n",
       "      <th>release_date</th>\n",
       "      <th>vote_average</th>\n",
       "    </tr>\n",
       "  </thead>\n",
       "  <tbody>\n",
       "    <tr>\n",
       "      <th>4592</th>\n",
       "      <td>Intolerance</td>\n",
       "      <td>1916-09-04</td>\n",
       "      <td>7.4</td>\n",
       "    </tr>\n",
       "    <tr>\n",
       "      <th>4661</th>\n",
       "      <td>The Big Parade</td>\n",
       "      <td>1925-11-05</td>\n",
       "      <td>7.0</td>\n",
       "    </tr>\n",
       "    <tr>\n",
       "      <th>2638</th>\n",
       "      <td>Metropolis</td>\n",
       "      <td>1927-01-10</td>\n",
       "      <td>8.0</td>\n",
       "    </tr>\n",
       "    <tr>\n",
       "      <th>4457</th>\n",
       "      <td>Pandora's Box</td>\n",
       "      <td>1929-01-30</td>\n",
       "      <td>7.6</td>\n",
       "    </tr>\n",
       "    <tr>\n",
       "      <th>4594</th>\n",
       "      <td>The Broadway Melody</td>\n",
       "      <td>1929-02-08</td>\n",
       "      <td>5.0</td>\n",
       "    </tr>\n",
       "  </tbody>\n",
       "</table>\n",
       "</div>"
      ],
      "text/plain": [
       "                    title release_date  vote_average\n",
       "4592          Intolerance   1916-09-04           7.4\n",
       "4661       The Big Parade   1925-11-05           7.0\n",
       "2638           Metropolis   1927-01-10           8.0\n",
       "4457        Pandora's Box   1929-01-30           7.6\n",
       "4594  The Broadway Melody   1929-02-08           5.0"
      ]
     },
     "metadata": {},
     "output_type": "display_data"
    }
   ],
   "source": [
    "df['release_date'] = pd.to_datetime(df['release_date'], errors='coerce')\n",
    "\n",
    "newest_movies = df.nlargest(5, 'release_date')[['title', 'release_date', 'vote_average']]\n",
    "oldest_movies = df.nsmallest(5, 'release_date')[['title', 'release_date', 'vote_average']]\n",
    "\n",
    "print(\"5 самых новых фильмов:\")\n",
    "display(newest_movies)\n",
    "print(\"\\n5 самых старых фильмов:\")\n",
    "display(oldest_movies)"
   ]
  },
  {
   "cell_type": "markdown",
   "id": "eb716a4c-48a4-47b8-a7ac-d962d9005280",
   "metadata": {},
   "source": [
    "15.  Есть ли связь между бюджетом фильма и популярностью?"
   ]
  },
  {
   "cell_type": "code",
   "execution_count": 25,
   "id": "f9685ba6-6749-4837-9a94-3fcfebb9520b",
   "metadata": {},
   "outputs": [
    {
     "name": "stdout",
     "output_type": "stream",
     "text": [
      "Корреляция между бюджетом и популярностью: 0.505\n"
     ]
    }
   ],
   "source": [
    "correlation = df['budget'].corr(df['popularity'])\n",
    "print(f\"Корреляция между бюджетом и популярностью: {correlation:.3f}\")"
   ]
  }
 ],
 "metadata": {
  "kernelspec": {
   "display_name": "Python [conda env:base] *",
   "language": "python",
   "name": "conda-base-py"
  },
  "language_info": {
   "codemirror_mode": {
    "name": "ipython",
    "version": 3
   },
   "file_extension": ".py",
   "mimetype": "text/x-python",
   "name": "python",
   "nbconvert_exporter": "python",
   "pygments_lexer": "ipython3",
   "version": "3.13.5"
  }
 },
 "nbformat": 4,
 "nbformat_minor": 5
}
