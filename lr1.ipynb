{
 "cells": [
  {
   "cell_type": "markdown",
   "id": "04c42534-9883-4722-9761-e9dd936b5a42",
   "metadata": {},
   "source": [
    "Лабораторная работа №1, Вариант 2\n",
    "Цель работы: познакомиться с использованием библиотеки pandas при решении\n",
    "практических задач, связанных с анализом данных. \n",
    "Для выполнения задания по анализу данных из файла student-mat.csv выполним следующие шаги:\n",
    "1. Импорт библиотек"
   ]
  },
  {
   "cell_type": "code",
   "execution_count": 3,
   "id": "70e743ff-c414-4148-9236-f8574ca1aa2c",
   "metadata": {},
   "outputs": [],
   "source": [
    "import pandas as pd\n",
    "import numpy as np\n",
    "import matplotlib.pyplot as plt\n",
    "import seaborn as sns"
   ]
  },
  {
   "cell_type": "markdown",
   "id": "b7a492af-0e88-4b95-a210-7c9d7bbb2105",
   "metadata": {},
   "source": [
    "2. Загрузка данных"
   ]
  },
  {
   "cell_type": "code",
   "execution_count": 7,
   "id": "e5f67953-4d14-4e5d-936f-b2a681c06ead",
   "metadata": {},
   "outputs": [],
   "source": [
    "df = pd.read_csv('student-mat.csv', sep=',')"
   ]
  },
  {
   "cell_type": "markdown",
   "id": "08eea560-162e-43c0-95f9-5bbd40f1d2bc",
   "metadata": {},
   "source": [
    "3. Первые 16 строк"
   ]
  },
  {
   "cell_type": "code",
   "execution_count": 8,
   "id": "e856d3a7-afc0-444a-b551-7ab0a352a120",
   "metadata": {},
   "outputs": [
    {
     "data": {
      "text/html": [
       "<div>\n",
       "<style scoped>\n",
       "    .dataframe tbody tr th:only-of-type {\n",
       "        vertical-align: middle;\n",
       "    }\n",
       "\n",
       "    .dataframe tbody tr th {\n",
       "        vertical-align: top;\n",
       "    }\n",
       "\n",
       "    .dataframe thead th {\n",
       "        text-align: right;\n",
       "    }\n",
       "</style>\n",
       "<table border=\"1\" class=\"dataframe\">\n",
       "  <thead>\n",
       "    <tr style=\"text-align: right;\">\n",
       "      <th></th>\n",
       "      <th>school</th>\n",
       "      <th>sex</th>\n",
       "      <th>age</th>\n",
       "      <th>address</th>\n",
       "      <th>famsize</th>\n",
       "      <th>Pstatus</th>\n",
       "      <th>Medu</th>\n",
       "      <th>Fedu</th>\n",
       "      <th>Mjob</th>\n",
       "      <th>Fjob</th>\n",
       "      <th>...</th>\n",
       "      <th>famrel</th>\n",
       "      <th>freetime</th>\n",
       "      <th>goout</th>\n",
       "      <th>Dalc</th>\n",
       "      <th>Walc</th>\n",
       "      <th>health</th>\n",
       "      <th>absences</th>\n",
       "      <th>G1</th>\n",
       "      <th>G2</th>\n",
       "      <th>G3</th>\n",
       "    </tr>\n",
       "  </thead>\n",
       "  <tbody>\n",
       "    <tr>\n",
       "      <th>0</th>\n",
       "      <td>GP</td>\n",
       "      <td>F</td>\n",
       "      <td>18</td>\n",
       "      <td>U</td>\n",
       "      <td>GT3</td>\n",
       "      <td>A</td>\n",
       "      <td>4</td>\n",
       "      <td>4</td>\n",
       "      <td>at_home</td>\n",
       "      <td>teacher</td>\n",
       "      <td>...</td>\n",
       "      <td>4</td>\n",
       "      <td>3</td>\n",
       "      <td>4</td>\n",
       "      <td>1</td>\n",
       "      <td>1</td>\n",
       "      <td>3</td>\n",
       "      <td>6</td>\n",
       "      <td>5</td>\n",
       "      <td>6</td>\n",
       "      <td>6</td>\n",
       "    </tr>\n",
       "    <tr>\n",
       "      <th>1</th>\n",
       "      <td>GP</td>\n",
       "      <td>F</td>\n",
       "      <td>17</td>\n",
       "      <td>U</td>\n",
       "      <td>GT3</td>\n",
       "      <td>T</td>\n",
       "      <td>1</td>\n",
       "      <td>1</td>\n",
       "      <td>at_home</td>\n",
       "      <td>other</td>\n",
       "      <td>...</td>\n",
       "      <td>5</td>\n",
       "      <td>3</td>\n",
       "      <td>3</td>\n",
       "      <td>1</td>\n",
       "      <td>1</td>\n",
       "      <td>3</td>\n",
       "      <td>4</td>\n",
       "      <td>5</td>\n",
       "      <td>5</td>\n",
       "      <td>6</td>\n",
       "    </tr>\n",
       "    <tr>\n",
       "      <th>2</th>\n",
       "      <td>GP</td>\n",
       "      <td>F</td>\n",
       "      <td>15</td>\n",
       "      <td>U</td>\n",
       "      <td>LE3</td>\n",
       "      <td>T</td>\n",
       "      <td>1</td>\n",
       "      <td>1</td>\n",
       "      <td>at_home</td>\n",
       "      <td>other</td>\n",
       "      <td>...</td>\n",
       "      <td>4</td>\n",
       "      <td>3</td>\n",
       "      <td>2</td>\n",
       "      <td>2</td>\n",
       "      <td>3</td>\n",
       "      <td>3</td>\n",
       "      <td>10</td>\n",
       "      <td>7</td>\n",
       "      <td>8</td>\n",
       "      <td>10</td>\n",
       "    </tr>\n",
       "    <tr>\n",
       "      <th>3</th>\n",
       "      <td>GP</td>\n",
       "      <td>F</td>\n",
       "      <td>15</td>\n",
       "      <td>U</td>\n",
       "      <td>GT3</td>\n",
       "      <td>T</td>\n",
       "      <td>4</td>\n",
       "      <td>2</td>\n",
       "      <td>health</td>\n",
       "      <td>services</td>\n",
       "      <td>...</td>\n",
       "      <td>3</td>\n",
       "      <td>2</td>\n",
       "      <td>2</td>\n",
       "      <td>1</td>\n",
       "      <td>1</td>\n",
       "      <td>5</td>\n",
       "      <td>2</td>\n",
       "      <td>15</td>\n",
       "      <td>14</td>\n",
       "      <td>15</td>\n",
       "    </tr>\n",
       "    <tr>\n",
       "      <th>4</th>\n",
       "      <td>GP</td>\n",
       "      <td>F</td>\n",
       "      <td>16</td>\n",
       "      <td>U</td>\n",
       "      <td>GT3</td>\n",
       "      <td>T</td>\n",
       "      <td>3</td>\n",
       "      <td>3</td>\n",
       "      <td>other</td>\n",
       "      <td>other</td>\n",
       "      <td>...</td>\n",
       "      <td>4</td>\n",
       "      <td>3</td>\n",
       "      <td>2</td>\n",
       "      <td>1</td>\n",
       "      <td>2</td>\n",
       "      <td>5</td>\n",
       "      <td>4</td>\n",
       "      <td>6</td>\n",
       "      <td>10</td>\n",
       "      <td>10</td>\n",
       "    </tr>\n",
       "    <tr>\n",
       "      <th>5</th>\n",
       "      <td>GP</td>\n",
       "      <td>M</td>\n",
       "      <td>16</td>\n",
       "      <td>U</td>\n",
       "      <td>LE3</td>\n",
       "      <td>T</td>\n",
       "      <td>4</td>\n",
       "      <td>3</td>\n",
       "      <td>services</td>\n",
       "      <td>other</td>\n",
       "      <td>...</td>\n",
       "      <td>5</td>\n",
       "      <td>4</td>\n",
       "      <td>2</td>\n",
       "      <td>1</td>\n",
       "      <td>2</td>\n",
       "      <td>5</td>\n",
       "      <td>10</td>\n",
       "      <td>15</td>\n",
       "      <td>15</td>\n",
       "      <td>15</td>\n",
       "    </tr>\n",
       "    <tr>\n",
       "      <th>6</th>\n",
       "      <td>GP</td>\n",
       "      <td>M</td>\n",
       "      <td>16</td>\n",
       "      <td>U</td>\n",
       "      <td>LE3</td>\n",
       "      <td>T</td>\n",
       "      <td>2</td>\n",
       "      <td>2</td>\n",
       "      <td>other</td>\n",
       "      <td>other</td>\n",
       "      <td>...</td>\n",
       "      <td>4</td>\n",
       "      <td>4</td>\n",
       "      <td>4</td>\n",
       "      <td>1</td>\n",
       "      <td>1</td>\n",
       "      <td>3</td>\n",
       "      <td>0</td>\n",
       "      <td>12</td>\n",
       "      <td>12</td>\n",
       "      <td>11</td>\n",
       "    </tr>\n",
       "    <tr>\n",
       "      <th>7</th>\n",
       "      <td>GP</td>\n",
       "      <td>F</td>\n",
       "      <td>17</td>\n",
       "      <td>U</td>\n",
       "      <td>GT3</td>\n",
       "      <td>A</td>\n",
       "      <td>4</td>\n",
       "      <td>4</td>\n",
       "      <td>other</td>\n",
       "      <td>teacher</td>\n",
       "      <td>...</td>\n",
       "      <td>4</td>\n",
       "      <td>1</td>\n",
       "      <td>4</td>\n",
       "      <td>1</td>\n",
       "      <td>1</td>\n",
       "      <td>1</td>\n",
       "      <td>6</td>\n",
       "      <td>6</td>\n",
       "      <td>5</td>\n",
       "      <td>6</td>\n",
       "    </tr>\n",
       "    <tr>\n",
       "      <th>8</th>\n",
       "      <td>GP</td>\n",
       "      <td>M</td>\n",
       "      <td>15</td>\n",
       "      <td>U</td>\n",
       "      <td>LE3</td>\n",
       "      <td>A</td>\n",
       "      <td>3</td>\n",
       "      <td>2</td>\n",
       "      <td>services</td>\n",
       "      <td>other</td>\n",
       "      <td>...</td>\n",
       "      <td>4</td>\n",
       "      <td>2</td>\n",
       "      <td>2</td>\n",
       "      <td>1</td>\n",
       "      <td>1</td>\n",
       "      <td>1</td>\n",
       "      <td>0</td>\n",
       "      <td>16</td>\n",
       "      <td>18</td>\n",
       "      <td>19</td>\n",
       "    </tr>\n",
       "    <tr>\n",
       "      <th>9</th>\n",
       "      <td>GP</td>\n",
       "      <td>M</td>\n",
       "      <td>15</td>\n",
       "      <td>U</td>\n",
       "      <td>GT3</td>\n",
       "      <td>T</td>\n",
       "      <td>3</td>\n",
       "      <td>4</td>\n",
       "      <td>other</td>\n",
       "      <td>other</td>\n",
       "      <td>...</td>\n",
       "      <td>5</td>\n",
       "      <td>5</td>\n",
       "      <td>1</td>\n",
       "      <td>1</td>\n",
       "      <td>1</td>\n",
       "      <td>5</td>\n",
       "      <td>0</td>\n",
       "      <td>14</td>\n",
       "      <td>15</td>\n",
       "      <td>15</td>\n",
       "    </tr>\n",
       "    <tr>\n",
       "      <th>10</th>\n",
       "      <td>GP</td>\n",
       "      <td>F</td>\n",
       "      <td>15</td>\n",
       "      <td>U</td>\n",
       "      <td>GT3</td>\n",
       "      <td>T</td>\n",
       "      <td>4</td>\n",
       "      <td>4</td>\n",
       "      <td>teacher</td>\n",
       "      <td>health</td>\n",
       "      <td>...</td>\n",
       "      <td>3</td>\n",
       "      <td>3</td>\n",
       "      <td>3</td>\n",
       "      <td>1</td>\n",
       "      <td>2</td>\n",
       "      <td>2</td>\n",
       "      <td>0</td>\n",
       "      <td>10</td>\n",
       "      <td>8</td>\n",
       "      <td>9</td>\n",
       "    </tr>\n",
       "    <tr>\n",
       "      <th>11</th>\n",
       "      <td>GP</td>\n",
       "      <td>F</td>\n",
       "      <td>15</td>\n",
       "      <td>U</td>\n",
       "      <td>GT3</td>\n",
       "      <td>T</td>\n",
       "      <td>2</td>\n",
       "      <td>1</td>\n",
       "      <td>services</td>\n",
       "      <td>other</td>\n",
       "      <td>...</td>\n",
       "      <td>5</td>\n",
       "      <td>2</td>\n",
       "      <td>2</td>\n",
       "      <td>1</td>\n",
       "      <td>1</td>\n",
       "      <td>4</td>\n",
       "      <td>4</td>\n",
       "      <td>10</td>\n",
       "      <td>12</td>\n",
       "      <td>12</td>\n",
       "    </tr>\n",
       "    <tr>\n",
       "      <th>12</th>\n",
       "      <td>GP</td>\n",
       "      <td>M</td>\n",
       "      <td>15</td>\n",
       "      <td>U</td>\n",
       "      <td>LE3</td>\n",
       "      <td>T</td>\n",
       "      <td>4</td>\n",
       "      <td>4</td>\n",
       "      <td>health</td>\n",
       "      <td>services</td>\n",
       "      <td>...</td>\n",
       "      <td>4</td>\n",
       "      <td>3</td>\n",
       "      <td>3</td>\n",
       "      <td>1</td>\n",
       "      <td>3</td>\n",
       "      <td>5</td>\n",
       "      <td>2</td>\n",
       "      <td>14</td>\n",
       "      <td>14</td>\n",
       "      <td>14</td>\n",
       "    </tr>\n",
       "    <tr>\n",
       "      <th>13</th>\n",
       "      <td>GP</td>\n",
       "      <td>M</td>\n",
       "      <td>15</td>\n",
       "      <td>U</td>\n",
       "      <td>GT3</td>\n",
       "      <td>T</td>\n",
       "      <td>4</td>\n",
       "      <td>3</td>\n",
       "      <td>teacher</td>\n",
       "      <td>other</td>\n",
       "      <td>...</td>\n",
       "      <td>5</td>\n",
       "      <td>4</td>\n",
       "      <td>3</td>\n",
       "      <td>1</td>\n",
       "      <td>2</td>\n",
       "      <td>3</td>\n",
       "      <td>2</td>\n",
       "      <td>10</td>\n",
       "      <td>10</td>\n",
       "      <td>11</td>\n",
       "    </tr>\n",
       "    <tr>\n",
       "      <th>14</th>\n",
       "      <td>GP</td>\n",
       "      <td>M</td>\n",
       "      <td>15</td>\n",
       "      <td>U</td>\n",
       "      <td>GT3</td>\n",
       "      <td>A</td>\n",
       "      <td>2</td>\n",
       "      <td>2</td>\n",
       "      <td>other</td>\n",
       "      <td>other</td>\n",
       "      <td>...</td>\n",
       "      <td>4</td>\n",
       "      <td>5</td>\n",
       "      <td>2</td>\n",
       "      <td>1</td>\n",
       "      <td>1</td>\n",
       "      <td>3</td>\n",
       "      <td>0</td>\n",
       "      <td>14</td>\n",
       "      <td>16</td>\n",
       "      <td>16</td>\n",
       "    </tr>\n",
       "    <tr>\n",
       "      <th>15</th>\n",
       "      <td>GP</td>\n",
       "      <td>F</td>\n",
       "      <td>16</td>\n",
       "      <td>U</td>\n",
       "      <td>GT3</td>\n",
       "      <td>T</td>\n",
       "      <td>4</td>\n",
       "      <td>4</td>\n",
       "      <td>health</td>\n",
       "      <td>other</td>\n",
       "      <td>...</td>\n",
       "      <td>4</td>\n",
       "      <td>4</td>\n",
       "      <td>4</td>\n",
       "      <td>1</td>\n",
       "      <td>2</td>\n",
       "      <td>2</td>\n",
       "      <td>4</td>\n",
       "      <td>14</td>\n",
       "      <td>14</td>\n",
       "      <td>14</td>\n",
       "    </tr>\n",
       "  </tbody>\n",
       "</table>\n",
       "<p>16 rows × 33 columns</p>\n",
       "</div>"
      ],
      "text/plain": [
       "   school sex  age address famsize Pstatus  Medu  Fedu      Mjob      Fjob  \\\n",
       "0      GP   F   18       U     GT3       A     4     4   at_home   teacher   \n",
       "1      GP   F   17       U     GT3       T     1     1   at_home     other   \n",
       "2      GP   F   15       U     LE3       T     1     1   at_home     other   \n",
       "3      GP   F   15       U     GT3       T     4     2    health  services   \n",
       "4      GP   F   16       U     GT3       T     3     3     other     other   \n",
       "5      GP   M   16       U     LE3       T     4     3  services     other   \n",
       "6      GP   M   16       U     LE3       T     2     2     other     other   \n",
       "7      GP   F   17       U     GT3       A     4     4     other   teacher   \n",
       "8      GP   M   15       U     LE3       A     3     2  services     other   \n",
       "9      GP   M   15       U     GT3       T     3     4     other     other   \n",
       "10     GP   F   15       U     GT3       T     4     4   teacher    health   \n",
       "11     GP   F   15       U     GT3       T     2     1  services     other   \n",
       "12     GP   M   15       U     LE3       T     4     4    health  services   \n",
       "13     GP   M   15       U     GT3       T     4     3   teacher     other   \n",
       "14     GP   M   15       U     GT3       A     2     2     other     other   \n",
       "15     GP   F   16       U     GT3       T     4     4    health     other   \n",
       "\n",
       "    ... famrel freetime  goout  Dalc  Walc health absences  G1  G2  G3  \n",
       "0   ...      4        3      4     1     1      3        6   5   6   6  \n",
       "1   ...      5        3      3     1     1      3        4   5   5   6  \n",
       "2   ...      4        3      2     2     3      3       10   7   8  10  \n",
       "3   ...      3        2      2     1     1      5        2  15  14  15  \n",
       "4   ...      4        3      2     1     2      5        4   6  10  10  \n",
       "5   ...      5        4      2     1     2      5       10  15  15  15  \n",
       "6   ...      4        4      4     1     1      3        0  12  12  11  \n",
       "7   ...      4        1      4     1     1      1        6   6   5   6  \n",
       "8   ...      4        2      2     1     1      1        0  16  18  19  \n",
       "9   ...      5        5      1     1     1      5        0  14  15  15  \n",
       "10  ...      3        3      3     1     2      2        0  10   8   9  \n",
       "11  ...      5        2      2     1     1      4        4  10  12  12  \n",
       "12  ...      4        3      3     1     3      5        2  14  14  14  \n",
       "13  ...      5        4      3     1     2      3        2  10  10  11  \n",
       "14  ...      4        5      2     1     1      3        0  14  16  16  \n",
       "15  ...      4        4      4     1     2      2        4  14  14  14  \n",
       "\n",
       "[16 rows x 33 columns]"
      ]
     },
     "execution_count": 8,
     "metadata": {},
     "output_type": "execute_result"
    }
   ],
   "source": [
    "df.head(16)"
   ]
  },
  {
   "cell_type": "markdown",
   "id": "a00ff2a4-841d-4506-a58e-d304fd844f93",
   "metadata": {},
   "source": [
    "4. Размер данных"
   ]
  },
  {
   "cell_type": "code",
   "execution_count": 12,
   "id": "97081b54-948c-4a19-bc4b-ad6143f8feee",
   "metadata": {},
   "outputs": [
    {
     "name": "stdout",
     "output_type": "stream",
     "text": [
      "Строк: 395, столбцов: 33\n"
     ]
    }
   ],
   "source": [
    "print(f\"Строк: {df.shape[0]}, столбцов: {df.shape[1]}\")"
   ]
  },
  {
   "cell_type": "markdown",
   "id": "aad42a47-ccef-4fec-b8a4-a8083bb55acb",
   "metadata": {},
   "source": [
    "5. Сводная информация"
   ]
  },
  {
   "cell_type": "code",
   "execution_count": 10,
   "id": "9ad1bee9-bf9c-45f5-802e-afc12c77fd8c",
   "metadata": {},
   "outputs": [
    {
     "name": "stdout",
     "output_type": "stream",
     "text": [
      "<class 'pandas.core.frame.DataFrame'>\n",
      "RangeIndex: 395 entries, 0 to 394\n",
      "Data columns (total 33 columns):\n",
      " #   Column      Non-Null Count  Dtype \n",
      "---  ------      --------------  ----- \n",
      " 0   school      395 non-null    object\n",
      " 1   sex         395 non-null    object\n",
      " 2   age         395 non-null    int64 \n",
      " 3   address     395 non-null    object\n",
      " 4   famsize     395 non-null    object\n",
      " 5   Pstatus     395 non-null    object\n",
      " 6   Medu        395 non-null    int64 \n",
      " 7   Fedu        395 non-null    int64 \n",
      " 8   Mjob        395 non-null    object\n",
      " 9   Fjob        395 non-null    object\n",
      " 10  reason      395 non-null    object\n",
      " 11  guardian    395 non-null    object\n",
      " 12  traveltime  395 non-null    int64 \n",
      " 13  studytime   395 non-null    int64 \n",
      " 14  failures    395 non-null    int64 \n",
      " 15  schoolsup   395 non-null    object\n",
      " 16  famsup      395 non-null    object\n",
      " 17  paid        395 non-null    object\n",
      " 18  activities  395 non-null    object\n",
      " 19  nursery     395 non-null    object\n",
      " 20  higher      395 non-null    object\n",
      " 21  internet    395 non-null    object\n",
      " 22  romantic    395 non-null    object\n",
      " 23  famrel      395 non-null    int64 \n",
      " 24  freetime    395 non-null    int64 \n",
      " 25  goout       395 non-null    int64 \n",
      " 26  Dalc        395 non-null    int64 \n",
      " 27  Walc        395 non-null    int64 \n",
      " 28  health      395 non-null    int64 \n",
      " 29  absences    395 non-null    int64 \n",
      " 30  G1          395 non-null    int64 \n",
      " 31  G2          395 non-null    int64 \n",
      " 32  G3          395 non-null    int64 \n",
      "dtypes: int64(16), object(17)\n",
      "memory usage: 102.0+ KB\n"
     ]
    }
   ],
   "source": [
    "df.info()"
   ]
  },
  {
   "cell_type": "markdown",
   "id": "454a44fc-df11-488a-ab9f-43876ae42b27",
   "metadata": {},
   "source": [
    "6. Индекс данных"
   ]
  },
  {
   "cell_type": "code",
   "execution_count": 11,
   "id": "82dc9cfe-00e9-4e9f-a1b2-5979456ada93",
   "metadata": {},
   "outputs": [
    {
     "name": "stdout",
     "output_type": "stream",
     "text": [
      "Индекс: RangeIndex(start=0, stop=395, step=1)\n"
     ]
    }
   ],
   "source": [
    "print(f\"Индекс: {df.index}\")"
   ]
  },
  {
   "cell_type": "markdown",
   "id": "15b48710-d06f-477d-8659-53b7e1e25c68",
   "metadata": {},
   "source": [
    "7. Новый датафрейм без семейных столбцов"
   ]
  },
  {
   "cell_type": "code",
   "execution_count": 14,
   "id": "aa386c3b-006e-43f3-9c5d-b323ebb7d49d",
   "metadata": {},
   "outputs": [
    {
     "name": "stdout",
     "output_type": "stream",
     "text": [
      "    school sex  age address  reason guardian  traveltime  studytime  failures  \\\n",
      "0       GP   F   18       U  course   mother           2          2         0   \n",
      "1       GP   F   17       U  course   father           1          2         0   \n",
      "2       GP   F   15       U   other   mother           1          2         3   \n",
      "3       GP   F   15       U    home   mother           1          3         0   \n",
      "4       GP   F   16       U    home   father           1          2         0   \n",
      "..     ...  ..  ...     ...     ...      ...         ...        ...       ...   \n",
      "390     MS   M   20       U  course    other           1          2         2   \n",
      "391     MS   M   17       U  course   mother           2          1         0   \n",
      "392     MS   M   21       R  course    other           1          1         3   \n",
      "393     MS   M   18       R  course   mother           3          1         0   \n",
      "394     MS   M   19       U  course   father           1          1         0   \n",
      "\n",
      "    schoolsup  ... romantic freetime goout Dalc Walc health absences  G1  G2  \\\n",
      "0         yes  ...       no        3     4    1    1      3        6   5   6   \n",
      "1          no  ...       no        3     3    1    1      3        4   5   5   \n",
      "2         yes  ...       no        3     2    2    3      3       10   7   8   \n",
      "3          no  ...      yes        2     2    1    1      5        2  15  14   \n",
      "4          no  ...       no        3     2    1    2      5        4   6  10   \n",
      "..        ...  ...      ...      ...   ...  ...  ...    ...      ...  ..  ..   \n",
      "390        no  ...       no        5     4    4    5      4       11   9   9   \n",
      "391        no  ...       no        4     5    3    4      2        3  14  16   \n",
      "392        no  ...       no        5     3    3    3      3        3  10   8   \n",
      "393        no  ...       no        4     1    3    4      5        0  11  12   \n",
      "394        no  ...       no        2     3    3    3      5        5   8   9   \n",
      "\n",
      "     G3  \n",
      "0     6  \n",
      "1     6  \n",
      "2    10  \n",
      "3    15  \n",
      "4    10  \n",
      "..   ..  \n",
      "390   9  \n",
      "391  16  \n",
      "392   7  \n",
      "393  10  \n",
      "394   9  \n",
      "\n",
      "[395 rows x 26 columns]\n"
     ]
    }
   ],
   "source": [
    "family_columns = ['famsize', 'Pstatus', 'Medu', 'Fedu', 'Mjob', 'Fjob', 'famrel']\n",
    "df_filtered = df.drop(columns=family_columns)\n",
    "print(df_filtered)"
   ]
  },
  {
   "cell_type": "markdown",
   "id": "91033a1e-c3c5-43ad-a1d4-64cef67bf286",
   "metadata": {},
   "source": [
    "8. Наихудшая успеваемость по школам"
   ]
  },
  {
   "cell_type": "code",
   "execution_count": 27,
   "id": "a2adaf09-d0f1-4d1d-afa8-28b96b320561",
   "metadata": {},
   "outputs": [
    {
     "name": "stdout",
     "output_type": "stream",
     "text": [
      "Средние показатели для наихудших студентов:\n",
      "health    3.966667\n",
      "Dalc      1.566667\n",
      "Walc      2.133333\n",
      "dtype: float64\n"
     ]
    }
   ],
   "source": [
    "worst_students = df.groupby('school', group_keys=False).apply(\n",
    "    lambda x: x.nsmallest(15, 'G3'), include_groups=False\n",
    ").reset_index(drop=True)\n",
    "\n",
    "worst_stats = worst_students[['health', 'Dalc', 'Walc']].mean()\n",
    "print(\"Средние показатели для наихудших студентов:\")\n",
    "print(worst_stats)"
   ]
  },
  {
   "cell_type": "markdown",
   "id": "46a9109e-4c5a-4d6d-8722-ec5930c680d2",
   "metadata": {},
   "source": [
    "9. Наилучшая успеваемость"
   ]
  },
  {
   "cell_type": "code",
   "execution_count": 29,
   "id": "b0263d55-bda1-44b5-a7a9-1c8f1b77e006",
   "metadata": {},
   "outputs": [
    {
     "name": "stdout",
     "output_type": "stream",
     "text": [
      "Средние показатели для лучших студентов:\n",
      "health    3.033333\n",
      "Dalc      1.400000\n",
      "Walc      2.133333\n",
      "dtype: float64\n"
     ]
    }
   ],
   "source": [
    "best_students = df.groupby('school').apply(\n",
    "    lambda x: x.nlargest(15, 'G3'), include_groups=False\n",
    ").reset_index(drop=True)\n",
    "\n",
    "best_stats = best_students[['health', 'Dalc', 'Walc']].mean()\n",
    "print(\"Средние показатели для лучших студентов:\")\n",
    "print(best_stats)"
   ]
  },
  {
   "cell_type": "markdown",
   "id": "9adab417-7a94-4202-a93c-df87c218c7e8",
   "metadata": {},
   "source": [
    "10. Нелегальное употребление алкоголя"
   ]
  },
  {
   "cell_type": "code",
   "execution_count": 17,
   "id": "3d5a5869-5305-4b80-80b8-cb602a667714",
   "metadata": {},
   "outputs": [
    {
     "name": "stdout",
     "output_type": "stream",
     "text": [
      "Найдено несовершеннолетних употребляющих: 186\n"
     ]
    }
   ],
   "source": [
    "underage_drinkers = df[df['age'] < 17]\n",
    "print(f\"Найдено несовершеннолетних употребляющих: {underage_drinkers.shape[0]}\")"
   ]
  },
  {
   "cell_type": "markdown",
   "id": "bcdb4c86-6332-415d-97c1-cd3d13bffea6",
   "metadata": {},
   "source": [
    "11. Статистика по школам и полу"
   ]
  },
  {
   "cell_type": "code",
   "execution_count": 18,
   "id": "86aecfd0-0eae-43dc-9c08-e1659ff8a834",
   "metadata": {},
   "outputs": [
    {
     "name": "stdout",
     "output_type": "stream",
     "text": [
      "school  sex\n",
      "GP      M      94\n",
      "        F      92\n",
      "Name: count, dtype: int64\n"
     ]
    }
   ],
   "source": [
    "school_stats = underage_drinkers.groupby('school')['sex'].value_counts()\n",
    "print(school_stats)"
   ]
  },
  {
   "cell_type": "markdown",
   "id": "ba304d0d-9ff6-4ae5-90ef-36a1aad63f3b",
   "metadata": {},
   "source": [
    "12. Школа с наименьшим процентом злоупотребляющих"
   ]
  },
  {
   "cell_type": "code",
   "execution_count": 19,
   "id": "86775c92-6d45-4e91-a4a6-c2598d125cca",
   "metadata": {},
   "outputs": [
    {
     "name": "stdout",
     "output_type": "stream",
     "text": [
      "Школа с наименьшим процентом злоупотребляющих: MS\n"
     ]
    }
   ],
   "source": [
    "alcohol_abuse = df[(df['Dalc'] >= 4) | (df['Walc'] >= 4)]\n",
    "school_percentage = alcohol_abuse['school'].value_counts(normalize=True) * 100\n",
    "min_school = school_percentage.idxmin()\n",
    "print(f\"Школа с наименьшим процентом злоупотребляющих: {min_school}\")"
   ]
  },
  {
   "cell_type": "markdown",
   "id": "211f2878-005a-4f64-ad99-91abc2c34b24",
   "metadata": {},
   "source": [
    "13. Связь свободного времени и алкоголя"
   ]
  },
  {
   "cell_type": "code",
   "execution_count": 20,
   "id": "df464c96-f93e-4258-a151-65f6a80680ee",
   "metadata": {},
   "outputs": [
    {
     "name": "stdout",
     "output_type": "stream",
     "text": [
      "Корреляция между свободным временем, встречами и алкоголем:\n",
      "          freetime     goout      Dalc      Walc\n",
      "freetime  1.000000  0.285019  0.209001  0.147822\n",
      "goout     0.285019  1.000000  0.266994  0.420386\n",
      "Dalc      0.209001  0.266994  1.000000  0.647544\n",
      "Walc      0.147822  0.420386  0.647544  1.000000\n"
     ]
    }
   ],
   "source": [
    "correlation = df[['freetime', 'goout', 'Dalc', 'Walc']].corr()\n",
    "print(\"Корреляция между свободным временем, встречами и алкоголем:\")\n",
    "print(correlation)"
   ]
  },
  {
   "cell_type": "markdown",
   "id": "73876191-ba72-4c80-9842-efb0ad4b3acb",
   "metadata": {},
   "source": [
    "14. Связь свободного времени и встреч с друзьями"
   ]
  },
  {
   "cell_type": "code",
   "execution_count": 21,
   "id": "c2286139-a52d-40db-b37c-d3df3a287510",
   "metadata": {},
   "outputs": [
    {
     "name": "stdout",
     "output_type": "stream",
     "text": [
      "Корреляция между свободным временем и встречами: 0.29\n"
     ]
    }
   ],
   "source": [
    "ft_goout_corr = df['freetime'].corr(df['goout'])\n",
    "print(f\"Корреляция между свободным временем и встречами: {ft_goout_corr:.2f}\")"
   ]
  },
  {
   "cell_type": "markdown",
   "id": "eb716a4c-48a4-47b8-a7ac-d962d9005280",
   "metadata": {},
   "source": [
    "15. Статистика по Mjob"
   ]
  },
  {
   "cell_type": "code",
   "execution_count": 22,
   "id": "f9685ba6-6749-4837-9a94-3fcfebb9520b",
   "metadata": {},
   "outputs": [
    {
     "name": "stdout",
     "output_type": "stream",
     "text": [
      "count       395\n",
      "unique        5\n",
      "top       other\n",
      "freq        141\n",
      "Name: Mjob, dtype: object\n"
     ]
    }
   ],
   "source": [
    "mjob_stats = df['Mjob'].describe()\n",
    "print(mjob_stats)"
   ]
  }
 ],
 "metadata": {
  "kernelspec": {
   "display_name": "Python [conda env:base] *",
   "language": "python",
   "name": "conda-base-py"
  },
  "language_info": {
   "codemirror_mode": {
    "name": "ipython",
    "version": 3
   },
   "file_extension": ".py",
   "mimetype": "text/x-python",
   "name": "python",
   "nbconvert_exporter": "python",
   "pygments_lexer": "ipython3",
   "version": "3.13.5"
  }
 },
 "nbformat": 4,
 "nbformat_minor": 5
}
